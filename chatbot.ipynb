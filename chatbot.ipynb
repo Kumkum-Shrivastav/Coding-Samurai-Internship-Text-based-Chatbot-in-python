{
 "cells": [
  {
   "cell_type": "code",
   "execution_count": 4,
   "id": "d4f446d4-4b36-421a-a8d0-4850f9ab4519",
   "metadata": {},
   "outputs": [],
   "source": [
    "import nltk\n",
    "from nltk.chat.util import Chat, reflections"
   ]
  },
  {
   "cell_type": "code",
   "execution_count": 5,
   "id": "bf288d14-2887-461c-b30c-b516d5d0e8cb",
   "metadata": {},
   "outputs": [
    {
     "name": "stdout",
     "output_type": "stream",
     "text": [
      "<class 'nltk.chat.util.Chat'>\n"
     ]
    }
   ],
   "source": [
    "print(Chat)"
   ]
  },
  {
   "cell_type": "code",
   "execution_count": 6,
   "id": "5d237d16-ade4-4ee7-8e4c-a2bcd249ce6d",
   "metadata": {},
   "outputs": [
    {
     "data": {
      "text/plain": [
       "{'i am': 'you are',\n",
       " 'i was': 'you were',\n",
       " 'i': 'you',\n",
       " \"i'm\": 'you are',\n",
       " \"i'd\": 'you would',\n",
       " \"i've\": 'you have',\n",
       " \"i'll\": 'you will',\n",
       " 'my': 'your',\n",
       " 'you are': 'I am',\n",
       " 'you were': 'I was',\n",
       " \"you've\": 'I have',\n",
       " \"you'll\": 'I will',\n",
       " 'your': 'my',\n",
       " 'yours': 'mine',\n",
       " 'you': 'me',\n",
       " 'me': 'you'}"
      ]
     },
     "execution_count": 6,
     "metadata": {},
     "output_type": "execute_result"
    }
   ],
   "source": [
    "reflections"
   ]
  },
  {
   "cell_type": "code",
   "execution_count": 7,
   "id": "9efd69e1-b59a-4d86-a7dd-bdd4544f518c",
   "metadata": {},
   "outputs": [],
   "source": [
    "set_pairs = [\n",
    "    [\n",
    "        r\"I am (.*)\",\n",
    "        [\"Hello %1, How are you today?\",]\n",
    "    ],\n",
    "    [\n",
    "        r\"hi|hey|hello\",\n",
    "        [\"Hello\",\"Hey there\",]\n",
    "    ],\n",
    "    [\n",
    "        r\"what is your name?\",\n",
    "        [\"You can call me a Chatbot \",]\n",
    "    ],\n",
    "    [\n",
    "        r\"how are you ?\",\n",
    "        [\"I am fine, thank you! how can I help you ?\",]\n",
    "    ],\n",
    "    [\n",
    "        r\"I am fine, thank you for asking\",\n",
    "        [\"great to hear you, how can I help you today ?\",]\n",
    "    ],\n",
    "    [\n",
    "        r\"how can I help you ?\",\n",
    "        [\"I am looking for online courses and tutorials to learn Artificial Intelligence, Can you suggest me?\",]\n",
    "    ],\n",
    "    [\n",
    "        r\"I am (.*) doing good\",\n",
    "        [\"That's great to hear\",\"How can I help you? :)\",]\n",
    "    ],\n",
    "    [\n",
    "        r\"I am looking for online courses and tutorials to learn Artificial Intelligence, Can you suggest me?\",\n",
    "        [\"Edx is the best place to learn Artificial Intelligence. You can check out their online courses.\",]\n",
    "    ],\n",
    "    [\n",
    "        r\"Thanks for your suggestions. Do they have great instructors?\",\n",
    "        [\"Yes. They have some of the best instructors in world. They have many years of experience in teaching.\",]\n",
    "    ],\n",
    "    [\n",
    "        r\"(.*)thank you so much, that was helpful\",\n",
    "        [\"I am happy to help you out\",\"No problem\",\"you are Welcome\",]\n",
    "    ],\n",
    "    [\n",
    "        r\"quit\",\n",
    "        [\"Bye,Take care. See you soon :) \",\"It was nice talking to you. See you soon :)\",]\n",
    "    ],\n",
    "\n",
    "]"
   ]
  },
  {
   "cell_type": "raw",
   "id": "5475dc70-fdc8-4fc6-afc5-74eaaad0ba89",
   "metadata": {},
   "source": [
    "#defining chatbot function"
   ]
  },
  {
   "cell_type": "code",
   "execution_count": 8,
   "id": "8a274e0c-eddb-4d71-9ba1-4160483eabed",
   "metadata": {},
   "outputs": [
    {
     "name": "stdout",
     "output_type": "stream",
     "text": [
      "Hey! I am rule-based chatbot. What can I help you with?\n"
     ]
    }
   ],
   "source": [
    "def chatbot():\n",
    "    print(\"Hey! I am rule-based chatbot. What can I help you with?\")\n",
    "    \n",
    "chatbot()    "
   ]
  },
  {
   "cell_type": "code",
   "execution_count": 9,
   "id": "1e4a6543-3e21-4f4a-baf6-3d31d5394929",
   "metadata": {},
   "outputs": [
    {
     "name": "stdout",
     "output_type": "stream",
     "text": [
      "<nltk.chat.util.Chat object at 0x0000013FCE10A230>\n"
     ]
    }
   ],
   "source": [
    "chat = Chat(set_pairs,reflections)\n",
    "print(chat)"
   ]
  },
  {
   "cell_type": "code",
   "execution_count": null,
   "id": "1390d03f-6b81-4538-bb6b-b943111c4b63",
   "metadata": {},
   "outputs": [
    {
     "name": "stdin",
     "output_type": "stream",
     "text": [
      "> Hii\n"
     ]
    },
    {
     "name": "stdout",
     "output_type": "stream",
     "text": [
      "Hey there\n"
     ]
    }
   ],
   "source": [
    "chat.converse()\n",
    "if __name__ == \"__main__\":\n",
    "    chatbot()"
   ]
  },
  {
   "cell_type": "code",
   "execution_count": null,
   "id": "8dba05c9-4606-4d66-9ca0-d3633534f5d8",
   "metadata": {},
   "outputs": [],
   "source": []
  }
 ],
 "metadata": {
  "kernelspec": {
   "display_name": "Python 3 (ipykernel)",
   "language": "python",
   "name": "python3"
  },
  "language_info": {
   "codemirror_mode": {
    "name": "ipython",
    "version": 3
   },
   "file_extension": ".py",
   "mimetype": "text/x-python",
   "name": "python",
   "nbconvert_exporter": "python",
   "pygments_lexer": "ipython3",
   "version": "3.10.7"
  }
 },
 "nbformat": 4,
 "nbformat_minor": 5
}
